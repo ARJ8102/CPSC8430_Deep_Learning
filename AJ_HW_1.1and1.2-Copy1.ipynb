{
 "cells": [
  {
   "cell_type": "code",
   "execution_count": 2,
   "id": "8df5b722-606b-44d4-bd1a-2ddaedd3b7bc",
   "metadata": {},
   "outputs": [],
   "source": [
    "import numpy as np\n",
    "import pandas as pd \n",
    "import sklearn \n",
    "import torch \n",
    "import torchvision\n",
    "import torchvision.transforms as transforms\n",
    "import matplotlib.pyplot as plt \n",
    "import torch.nn as nn\n",
    "import math\n",
    "import gc "
   ]
  },
  {
   "cell_type": "markdown",
   "id": "3a058d63-e4b6-4c39-9746-d7f3e9ae69cf",
   "metadata": {},
   "source": [
    "# Function 1 "
   ]
  },
  {
   "cell_type": "code",
   "execution_count": null,
   "id": "019d5c1d-35de-4ec4-9fc1-497aa1357a7f",
   "metadata": {},
   "outputs": [],
   "source": [
    "torch.manual_seed(1)"
   ]
  },
  {
   "cell_type": "code",
   "execution_count": null,
   "id": "8c118cfc-2917-49ba-ae24-2fbc8b3be7a1",
   "metadata": {},
   "outputs": [],
   "source": [
    "# defining our first function \n",
    "#x = torch.unsqueeze(torch.linspace(-1, 1, 300), dim=1)\n",
    "x = np.expand_dims(np.arange(-1.5, 1.5, 0.01),1)\n",
    "\n",
    "y = (np.sin(5*np.pi*x))/(5*np.pi*x) \n",
    "print(x.shape)\n",
    "print(y.shape)\n",
    "# \n",
    "x, y = torch.tensor(x, dtype=torch.float32), torch.tensor(y, dtype=torch.float32)"
   ]
  },
  {
   "cell_type": "code",
   "execution_count": null,
   "id": "045a6185-9369-4417-9d76-c8a961555f41",
   "metadata": {},
   "outputs": [],
   "source": [
    "\n",
    "# plotting the  graph of 1st function \n",
    "\n",
    "#x, y = torch.tensor(x, dtype=torch.float32), torch.tensor(y, dtype=torch.float32)\n",
    "\n",
    "\n",
    "\n",
    "x, y = torch.tensor(x).clone().detach().float(), torch.tensor(y).clone().detach().float()\n",
    "\n",
    "plt.figure(figsize=(10,5))\n",
    "plt.plot(x, y, color = \"blue\")\n",
    "plt.title('Function 1  Plot')\n",
    "plt.xlabel('Input')\n",
    "plt.ylabel('Output')\n",
    "plt.show()"
   ]
  },
  {
   "cell_type": "code",
   "execution_count": null,
   "id": "01dd4652-f2b3-44b6-8929-267b291e3507",
   "metadata": {},
   "outputs": [],
   "source": [
    "def training_fun(model, x, y):\n",
    "    max_epoch= 20000\n",
    "    epoch_arr = []\n",
    "    loss_arr = []\n",
    "    not_converged = True \n",
    "    current_epoch = 0\n",
    "    \n",
    "    while not_converged:\n",
    "        current_epoch += 1\n",
    "        prediction = model(x) # predictions on input x \n",
    "        loss = loss_func(prediction, y)\n",
    "        optimizer.zero_grad() \n",
    "        loss.backward() #back propogation\n",
    "        optimizer.step() \n",
    "        epoch_arr.append(current_epoch)\n",
    "        loss_arr.append(loss.detach().numpy())\n",
    "        \n",
    "        if current_epoch % 500 == 0: \n",
    "            print(f'epoch: {current_epoch}, loss = {loss.item():.4f}')\n",
    "                \n",
    "        if current_epoch == max_epoch:\n",
    "                print(\"Max Epoch Reached\")\n",
    "                not_converged = False\n",
    "\n",
    "        elif (current_epoch > 5) and  (loss_arr[-1] < 0.001):\n",
    "            if abs(loss_arr[-3] - loss_arr[-2]) < 1.0e-05 and abs(loss_arr[-2] - loss_arr[-1]) < 1.0e-05:\n",
    "                print(\"Convergence reached for loss\",loss_arr[-1])\n",
    "                not_converged = False\n",
    "                \n",
    "    return epoch_arr, loss_arr,prediction "
   ]
  },
  {
   "cell_type": "code",
   "execution_count": null,
   "id": "1ec5b185-49d8-4e68-af07-90a451950723",
   "metadata": {},
   "outputs": [],
   "source": [
    "def paramerter_count(m,i):\n",
    "  a=[]\n",
    "  for i in m.parameters():\n",
    "    a.append(torch.numel(i))\n",
    "  print('Total no of parameters in Model :'+str(i), np.sum(a),)\n",
    "def model_weight(m,flag,i):\n",
    "   if flag:\n",
    "    print(\"\\nModel \"+str(i)+\" weight and bias before training\\n\")\n",
    "   else:print(\"\\nModel \"+str(i)+\" weight and bias after training\\n\")\n",
    "   data = [] \n",
    "   for param_name, param_tensor in m.state_dict().items():  # Iterate over items to get both name and tensor\n",
    "        data.append({'Model': i, 'Parameter Name': param_name, 'Value': param_tensor.numpy()})\n",
    "   return pd.DataFrame(data) \n",
    "      #print(param, \"\\t\",m.state_dict()[param])"
   ]
  },
  {
   "cell_type": "markdown",
   "id": "bca8d8d8-b958-445e-b894-f1f9208284d4",
   "metadata": {},
   "source": [
    "# Model 1 "
   ]
  },
  {
   "cell_type": "code",
   "execution_count": null,
   "id": "4a59ac47-f434-4622-9b8a-5623a6a48be6",
   "metadata": {},
   "outputs": [],
   "source": [
    "class Model_1(nn.Module):\n",
    "    def __init__(self):\n",
    "        super(Model_1, self).__init__()\n",
    "        self.h_layer1  = nn.Linear(1,5)\n",
    "        self.h_layer2  = nn.Linear(5,10)\n",
    "        self.h_layer3  = nn.Linear(10,10)\n",
    "        self.h_layer4  = nn.Linear(10,10)\n",
    "        self.h_layer5  = nn.Linear(10,10)\n",
    "        self.h_layer6  = nn.Linear(10,10)\n",
    "        self.h_layer7  = nn.Linear(10,10)\n",
    "        self.h_layer8  = nn.Linear(10,5)\n",
    "        self.predict = nn.Linear(5,1)\n",
    "        \n",
    "    def forward(self, x):\n",
    "        x = nn.functional.leaky_relu(self.h_layer1(x))\n",
    "        x = nn.functional.leaky_relu(self.h_layer2(x))\n",
    "        x = nn.functional.leaky_relu(self.h_layer3(x))\n",
    "        x = nn.functional.leaky_relu(self.h_layer4(x))\n",
    "        x = nn.functional.leaky_relu(self.h_layer5(x))\n",
    "        x = nn.functional.leaky_relu(self.h_layer6(x))\n",
    "        x = nn.functional.leaky_relu(self.h_layer7(x))\n",
    "        x = nn.functional.leaky_relu(self.h_layer8(x))\n",
    "        x = self.predict(x)\n",
    "        return x\n",
    "    \n",
    "model_1 = Model_1()"
   ]
  },
  {
   "cell_type": "code",
   "execution_count": null,
   "id": "95ad35df-61a4-4acd-a071-d546b12afd4c",
   "metadata": {},
   "outputs": [],
   "source": [
    "optimizer = torch.optim.RMSprop(model_1.parameters(), lr = 0.0012, \n",
    "                                weight_decay = 1e-4)\n",
    "loss_func = torch.nn.MSELoss()  # mean squared loss"
   ]
  },
  {
   "cell_type": "code",
   "execution_count": null,
   "id": "cc75dbf0-a4e0-4c7a-b213-f677d3888b4d",
   "metadata": {},
   "outputs": [],
   "source": [
    "paramerter_count(model_1,1)\n",
    "print(model_weight(model_1,1,1))\n",
    "m1_epoch_arr, m1_loss_arr, m1_prediction =training_fun(model_1, x, y)\n",
    "print(model_weight(model_1,0,1))"
   ]
  },
  {
   "cell_type": "code",
   "execution_count": null,
   "id": "f7843a89-e5c7-4739-b5e0-72ee95ae1ae9",
   "metadata": {},
   "outputs": [],
   "source": [
    "# plotting graphs for out model_1\n",
    "plt.plot(m1_epoch_arr, m1_loss_arr,color=\"red\")\n",
    "plt.title('Model_1 Loss')\n",
    "plt.show()\n",
    "\n",
    "plt.plot(x.numpy(),y.numpy(),color=\"yellow\")\n",
    "plt.plot(x,m1_prediction.data.numpy(),color=\"green\")\n",
    "plt.title('Model_1 Prediction')\n",
    "plt.show()"
   ]
  },
  {
   "cell_type": "markdown",
   "id": "c7a53867-c031-4e61-b185-7ac7e28daa75",
   "metadata": {},
   "source": [
    "# Model 2"
   ]
  },
  {
   "cell_type": "code",
   "execution_count": null,
   "id": "af698e20-fe68-41e2-9f35-dbb50a1741cb",
   "metadata": {},
   "outputs": [],
   "source": [
    "class Model_2(nn.Module):\n",
    "    def __init__(self):\n",
    "        super(Model_2, self).__init__()\n",
    "        self.h_layer1  = nn.Linear(1,10)\n",
    "        self.h_layer2  = nn.Linear(10,18)\n",
    "        self.h_layer3  = nn.Linear(18,14)\n",
    "        self.h_layer4  = nn.Linear(14,5)\n",
    "        self.predict = nn.Linear(5,1)\n",
    "        \n",
    "    def forward(self, x):\n",
    "        x = nn.functional.leaky_relu(self.h_layer1(x))\n",
    "        x = nn.functional.leaky_relu(self.h_layer2(x))\n",
    "        x = nn.functional.leaky_relu(self.h_layer3(x))\n",
    "        x = nn.functional.leaky_relu(self.h_layer4(x))\n",
    "        x = self.predict(x)\n",
    "        return x\n",
    "    \n",
    "model_2 = Model_2()"
   ]
  },
  {
   "cell_type": "code",
   "execution_count": null,
   "id": "00cab975-bd78-4c30-bcee-1b8472a02520",
   "metadata": {},
   "outputs": [],
   "source": [
    "optimizer = torch.optim.RMSprop(model_2.parameters(), lr = 0.0012, \n",
    "                                weight_decay = 1e-4)\n",
    "loss_func = torch.nn.MSELoss()  # mean squared loss"
   ]
  },
  {
   "cell_type": "code",
   "execution_count": null,
   "id": "3aafe524-9665-46da-9724-9776c12fc424",
   "metadata": {},
   "outputs": [],
   "source": [
    "paramerter_count(model_2,3)\n",
    "print(model_weight(model_2,1,3))\n",
    "m2_epoch_arr, m2_loss_arr, m2_prediction =training_fun(model_2, x, y)\n",
    "print(model_weight(model_2,0,3))"
   ]
  },
  {
   "cell_type": "code",
   "execution_count": null,
   "id": "e0f6ef4b-c052-4520-837f-cf5132a3bd52",
   "metadata": {},
   "outputs": [],
   "source": [
    "# plotting graphs for out model_1\n",
    "plt.plot(m2_epoch_arr, m2_loss_arr,color=\"red\")\n",
    "plt.title('Model_2 Loss')\n",
    "plt.show()\n",
    "\n",
    "plt.plot(x.numpy(),y.numpy(),color=\"yellow\")\n",
    "plt.plot(x,m2_prediction.data.numpy(),color=\"green\")\n",
    "plt.title('Model_2 Prediction')\n",
    "plt.show()"
   ]
  },
  {
   "cell_type": "markdown",
   "id": "690bed77-1f7e-49e6-b71d-a0a563b22ffa",
   "metadata": {},
   "source": [
    "# Model 3"
   ]
  },
  {
   "cell_type": "code",
   "execution_count": null,
   "id": "451c48a9-a364-4ded-baa1-9e3c9b80fdce",
   "metadata": {},
   "outputs": [],
   "source": [
    "class Model_3(nn.Module):\n",
    "    def __init__(self):\n",
    "        super(Model_3, self).__init__()\n",
    "        self.h_layer1  = nn.Linear(1,100)\n",
    "        self.h_layer2  = nn.Linear(100,200)\n",
    "        self.predict = nn.Linear(200,1)\n",
    "        \n",
    "    def forward(self, x):\n",
    "        x = nn.functional.leaky_relu(self.h_layer1(x))\n",
    "        x = nn.functional.leaky_relu(self.h_layer2(x))        \n",
    "        x = self.predict(x)\n",
    "        return x\n",
    "    \n",
    "model_3 = Model_3()"
   ]
  },
  {
   "cell_type": "code",
   "execution_count": null,
   "id": "b31080eb-6cf7-4700-bc70-ad1c43c80bc6",
   "metadata": {},
   "outputs": [],
   "source": [
    "optimizer = torch.optim.RMSprop(model_3.parameters(), lr = 0.0011, \n",
    "                                weight_decay = 1e-4)\n",
    "loss_func = torch.nn.MSELoss()  # mean squared loss"
   ]
  },
  {
   "cell_type": "code",
   "execution_count": null,
   "id": "58a8efbf-f927-4cd2-9180-9ba1d2cd1889",
   "metadata": {},
   "outputs": [],
   "source": [
    "paramerter_count(model_3,1)\n",
    "print(model_weight(model_3,1,3))\n",
    "m3_epoch_arr, m3_loss_arr, m3_prediction =training_fun(model_3, x, y)\n",
    "print(model_weight(model_3,0,3))"
   ]
  },
  {
   "cell_type": "code",
   "execution_count": null,
   "id": "dfc0dc6a-f305-4e17-9a23-79e201f1974c",
   "metadata": {},
   "outputs": [],
   "source": [
    "# plotting graphs for out model_3\n",
    "plt.plot(m3_epoch_arr, m3_loss_arr,color=\"red\")\n",
    "plt.title('Model_3 Loss')\n",
    "plt.show()\n",
    "\n",
    "plt.plot(x.numpy(),y.numpy(),color=\"yellow\")\n",
    "plt.plot(x,m3_prediction.data.numpy(),color=\"green\")\n",
    "plt.title('Model_3 Prediction')\n",
    "plt.show()"
   ]
  },
  {
   "cell_type": "code",
   "execution_count": null,
   "id": "422989f3-0c81-4a9d-82e5-149940286170",
   "metadata": {},
   "outputs": [],
   "source": [
    "# plotting comparitive graphs of all models used "
   ]
  },
  {
   "cell_type": "code",
   "execution_count": null,
   "id": "b6f50536-ff4a-4ea3-a45f-eef0e17fbdff",
   "metadata": {},
   "outputs": [],
   "source": [
    "plt.figure(figsize=(6,4))\n",
    "plt.plot(m1_epoch_arr,m1_loss_arr, color = \"black\",alpha = 0.5)\n",
    "plt.plot(m2_epoch_arr,m2_loss_arr, color = \"blue\",alpha = 0.5)\n",
    "plt.plot(m3_epoch_arr,m3_loss_arr, color = \"yellow\",alpha = 0.5)\n",
    "plt.title('Model Loss')\n",
    "plt.legend(['Model_1', 'Model_2','Model_3'])\n",
    "plt.xlabel('Epoch')\n",
    "plt.ylabel('Loss')\n",
    "plt.savefig('AJ_Fun1_EpochVSLoss1.pdf')\n",
    "plt.show()"
   ]
  },
  {
   "cell_type": "code",
   "execution_count": null,
   "id": "983f3858-1d99-4413-98e5-c36e25cdfb4d",
   "metadata": {},
   "outputs": [],
   "source": [
    "plt.figure(figsize=(10,4))\n",
    "plt.plot(x,m1_prediction.data.numpy(),color=\"magenta\")\n",
    "plt.plot(x,m2_prediction.data.numpy(),color=\"blue\")\n",
    "plt.plot(x,m3_prediction.data.numpy(),color=\"yellow\")\n",
    "plt.plot(x,y.numpy(),color=\"black\")\n",
    "plt.title('Model Prediction')\n",
    "plt.legend(['1st Model', '2nd Model','3rd Model','Orginal Value'])\n",
    "plt.xlabel('Function')\n",
    "plt.ylabel('Target')\n",
    "plt.savefig('AJ_Model_Prediction1.pdf')\n",
    "plt.show()"
   ]
  },
  {
   "cell_type": "markdown",
   "id": "3ca6b02c-e3f0-491b-b736-1a3a155c17a7",
   "metadata": {},
   "source": [
    "# Function 2"
   ]
  },
  {
   "cell_type": "code",
   "execution_count": null,
   "id": "6964b798-33ae-43b4-8fdb-6cca962aa342",
   "metadata": {},
   "outputs": [],
   "source": [
    "# simulating our second function "
   ]
  },
  {
   "cell_type": "code",
   "execution_count": null,
   "id": "42f870b3-b2ea-4810-bf3f-0cced66695f4",
   "metadata": {},
   "outputs": [],
   "source": [
    "torch.manual_seed(1)\n",
    "x = torch.unsqueeze(torch.linspace(-1, 1, 300), dim=1)\n",
    "y = np.sign(np.sin(5 * np.pi * x))\n",
    "x, y = torch.tensor(x, dtype=torch.float32), torch.tensor(y, dtype=torch.float32)\n",
    "\n",
    "print(x.shape)\n",
    "print(y.shape)\n"
   ]
  },
  {
   "cell_type": "code",
   "execution_count": null,
   "id": "09f13f1c-6659-4b03-b3f1-7ec29932c32f",
   "metadata": {},
   "outputs": [],
   "source": [
    "# plotting the graph of original function\n",
    "plt.figure(figsize=(10,4))\n",
    "plt.plot(x, y, color='yellow')\n",
    "plt.title('Function 2')\n",
    "plt.xlabel('Input')\n",
    "plt.ylabel('Output')\n",
    "plt.savefig('AJ_2ndfuncplt.pdf')\n",
    "plt.show()\n",
    "\n",
    "n_samples, n_features = x.shape"
   ]
  },
  {
   "cell_type": "markdown",
   "id": "74f8aab7-0899-4a4a-a29f-6351925328e8",
   "metadata": {},
   "source": [
    "# Training our models on second function"
   ]
  },
  {
   "cell_type": "markdown",
   "id": "92bcc8a1-4af1-45aa-833f-c2abbdbb710f",
   "metadata": {},
   "source": [
    "# Model 1"
   ]
  },
  {
   "cell_type": "code",
   "execution_count": null,
   "id": "58ed936e-1b9a-4631-ab76-29d88e0fa48a",
   "metadata": {},
   "outputs": [],
   "source": [
    "sgn_model_1 = Model_1()\n",
    "optimizer = torch.optim.RMSprop(sgn_model_1.parameters(), lr = 0.0012, \n",
    "                                weight_decay = 1e-4)\n",
    "loss_func = torch.nn.MSELoss()  # mean squared loss"
   ]
  },
  {
   "cell_type": "code",
   "execution_count": null,
   "id": "402550eb-e9d5-4bf6-b7d5-c6346b7f40c8",
   "metadata": {},
   "outputs": [],
   "source": [
    "paramerter_count(sgn_model_1,1)\n",
    "print(model_weight(sgn_model_1,1,1))\n",
    "m1_epoch_arr, m1_loss_arr, m1_prediction =training_fun(sgn_model_1, x, y)\n",
    "print(model_weight(sgn_model_1,0,1))"
   ]
  },
  {
   "cell_type": "code",
   "execution_count": null,
   "id": "199cd375-1a9f-444d-9f67-ae26032401c6",
   "metadata": {},
   "outputs": [],
   "source": [
    "# plotting graphs for out model_1\n",
    "plt.plot(m1_epoch_arr, m1_loss_arr,color=\"red\")\n",
    "plt.title('sgn_Model_1 Loss')\n",
    "plt.show()\n",
    "\n",
    "plt.plot(x.numpy(),y.numpy(),color=\"black\", alpha = 0.6)\n",
    "plt.plot(x,m1_prediction.data.numpy(),color=\"yellow\")\n",
    "plt.title('sgn_Model_1 Prediction')\n",
    "plt.show()"
   ]
  },
  {
   "cell_type": "markdown",
   "id": "44b17356-910e-4936-b4da-f7f3ec2fe594",
   "metadata": {},
   "source": [
    "# Model 2"
   ]
  },
  {
   "cell_type": "code",
   "execution_count": null,
   "id": "463956c8-4cc3-462e-b937-50c84216d9e5",
   "metadata": {},
   "outputs": [],
   "source": [
    "sgn_model_2 = Model_2()\n",
    "optimizer = torch.optim.RMSprop(sgn_model_2.parameters(), lr = 0.0012, \n",
    "                                weight_decay = 1e-4)\n",
    "loss_func = torch.nn.MSELoss()  # mean squared loss\n",
    "\n",
    "paramerter_count(sgn_model_2,3)\n",
    "print(model_weight(sgn_model_2,1,3))\n",
    "m2_epoch_arr, m2_loss_arr, m2_prediction =training_fun(sgn_model_2, x, y)\n",
    "print(model_weight(sgn_model_2,0,3))"
   ]
  },
  {
   "cell_type": "code",
   "execution_count": null,
   "id": "b22d7a6e-0217-4eec-ad4b-b94edb2334b9",
   "metadata": {},
   "outputs": [],
   "source": [
    "# plotting graphs for out model_2\n",
    "plt.plot(m2_epoch_arr, m2_loss_arr,color=\"red\")\n",
    "plt.title('sgn_Model_2 Loss')\n",
    "plt.show()\n",
    "\n",
    "plt.plot(x.numpy(),y.numpy(),color=\"black\", alpha = 0.6)\n",
    "plt.plot(x,m2_prediction.data.numpy(),color=\"red\")\n",
    "plt.title('sgn_Model_2 Prediction')\n",
    "plt.show()"
   ]
  },
  {
   "cell_type": "markdown",
   "id": "2e569868-7f41-4583-acd9-08e1060f63ed",
   "metadata": {},
   "source": [
    "# Model 3"
   ]
  },
  {
   "cell_type": "code",
   "execution_count": null,
   "id": "f6d302c0-423f-4e86-bde0-c1a035f22175",
   "metadata": {},
   "outputs": [],
   "source": [
    "sgn_model_3 = Model_3()\n",
    "optimizer = torch.optim.RMSprop(sgn_model_3.parameters(), lr = 0.0011, \n",
    "                                weight_decay = 1e-4)\n",
    "loss_func = torch.nn.MSELoss()  # mean squared loss\n",
    "\n",
    "paramerter_count(sgn_model_3,1)\n",
    "print(model_weight(sgn_model_3,1,3))\n",
    "m3_epoch_arr, m3_loss_arr, m3_prediction =training_fun(sgn_model_3, x, y)\n",
    "print(model_weight(sgn_model_3,0,3))"
   ]
  },
  {
   "cell_type": "code",
   "execution_count": null,
   "id": "33e42d87-fa96-4e7f-9330-a082eba14baa",
   "metadata": {},
   "outputs": [],
   "source": [
    "# plotting graphs for out model_3\n",
    "plt.plot(m3_epoch_arr, m3_loss_arr,color=\"red\")\n",
    "plt.title('sgn_Model_3 Loss')\n",
    "plt.show()\n",
    "\n",
    "plt.plot(x.numpy(),y.numpy(),color=\"black\", alpha =0.8)\n",
    "plt.plot(x,m3_prediction.data.numpy(),color=\"green\")\n",
    "plt.title('sgn_Model_3 Prediction')\n",
    "plt.show()"
   ]
  },
  {
   "cell_type": "code",
   "execution_count": null,
   "id": "8f8f5d06-727a-4e9b-af2a-f6ba7b61fe28",
   "metadata": {},
   "outputs": [],
   "source": [
    "# Plotting comparitive graphs "
   ]
  },
  {
   "cell_type": "code",
   "execution_count": null,
   "id": "2dff73a9-7060-4ada-91c7-cddfccc73ef6",
   "metadata": {},
   "outputs": [],
   "source": [
    "plt.figure(figsize=(15,7))\n",
    "plt.plot(m1_epoch_arr,m1_loss_arr, color = \"red\",alpha = 0.5)\n",
    "plt.plot(m2_epoch_arr,m2_loss_arr, color = \"blue\",alpha = 0.5)\n",
    "plt.plot(m3_epoch_arr,m3_loss_arr, color = \"yellow\",alpha = 0.5)\n",
    "plt.title('sgn Model Loss')\n",
    "plt.legend(['Model_1', 'Model_2','Model_3'])\n",
    "plt.xlabel('Epoch')\n",
    "plt.ylabel('Loss')\n",
    "plt.savefig('AJ_Fun2_EpochVSLoss1.pdf')\n",
    "plt.show()\n",
    "\n",
    "\n",
    "plt.figure(figsize=(15,8))\n",
    "plt.plot(x,m1_prediction.data.numpy(),color=\"red\")\n",
    "plt.plot(x,m2_prediction.data.numpy(),color=\"blue\")\n",
    "plt.plot(x,m3_prediction.data.numpy(),color=\"yellow\")\n",
    "plt.plot(x,y.numpy(),color=\"black\")\n",
    "plt.title('sgn Model Prediction')\n",
    "plt.legend(['1st Model', '2nd Model','3rd Model','Orginal Value'])\n",
    "plt.xlabel('Function')\n",
    "plt.ylabel('Target')\n",
    "plt.savefig('AJ_Model_Prediction2.pdf')\n",
    "plt.show()"
   ]
  },
  {
   "cell_type": "markdown",
   "id": "682910dd-93c8-4f1d-8e81-5db319729c6a",
   "metadata": {},
   "source": [
    " # Function 3"
   ]
  },
  {
   "cell_type": "code",
   "execution_count": null,
   "id": "c80527b8-d3d7-46ab-8594-66c8ed1775e0",
   "metadata": {},
   "outputs": [],
   "source": [
    "# sigmoid function\n",
    "\n",
    "torch.manual_seed(1)\n",
    "\n",
    "x = torch.unsqueeze(torch.linspace(-1, 1, 300), dim=1)\n",
    "\n",
    "# Define the desired non-linear function for y\n",
    "y = torch.sigmoid(5 * x)\n",
    "\n",
    "print(x.shape)\n",
    "print(y.shape)\n"
   ]
  },
  {
   "cell_type": "code",
   "execution_count": null,
   "id": "59822064-225d-4914-b132-699d6baf2a37",
   "metadata": {},
   "outputs": [],
   "source": [
    "# plotting the graph of original function\n",
    "plt.figure(figsize=(10,10))\n",
    "plt.plot(x, y, color='yellow')\n",
    "plt.title('Function 3')\n",
    "plt.xlabel('Input')\n",
    "plt.ylabel('Output')\n",
    "plt.savefig('AJ_3rdfuncplt.pdf')\n",
    "plt.show()\n",
    "\n",
    "n_samples, n_features = x.shape"
   ]
  },
  {
   "cell_type": "markdown",
   "id": "9ec5e099-e2c8-4618-80f2-6c75089bf4ef",
   "metadata": {},
   "source": [
    "# Training our models on 3rd function "
   ]
  },
  {
   "cell_type": "markdown",
   "id": "7acf2b48-68e4-45d7-96f3-3f962a4ecdc3",
   "metadata": {},
   "source": [
    "# Model 1"
   ]
  },
  {
   "cell_type": "code",
   "execution_count": null,
   "id": "f120bd5a-e628-47a8-95ee-cab02e855573",
   "metadata": {},
   "outputs": [],
   "source": [
    "sgmd_model_1 = Model_1()\n",
    "optimizer = torch.optim.RMSprop(sgmd_model_1.parameters(), lr = 0.0012, \n",
    "                                weight_decay = 1e-4)\n",
    "loss_func = torch.nn.MSELoss()  # mean squared loss"
   ]
  },
  {
   "cell_type": "code",
   "execution_count": null,
   "id": "4bc5fe1a-1d4c-489a-8192-fae5b7033266",
   "metadata": {},
   "outputs": [],
   "source": [
    "paramerter_count(sgmd_model_1,1)\n",
    "print(model_weight(sgmd_model_1,1,1))\n",
    "m1_epoch_arr, m1_loss_arr, m1_prediction =training_fun(sgmd_model_1, x, y)\n",
    "print(model_weight(sgmd_model_1,0,1))"
   ]
  },
  {
   "cell_type": "code",
   "execution_count": null,
   "id": "496b216f-7576-4ec0-b7cc-de740f0dd1e0",
   "metadata": {},
   "outputs": [],
   "source": [
    "# plotting graphs for out model_1\n",
    "plt.plot(m1_epoch_arr, m1_loss_arr,color=\"red\")\n",
    "plt.title('sgn_Model_1 Loss')\n",
    "plt.show()\n",
    "\n",
    "plt.plot(x.numpy(),y.numpy(),color=\"black\", alpha = 0.6)\n",
    "plt.plot(x,m1_prediction.data.numpy(),color=\"yellow\")\n",
    "plt.title('sgn_Model_1 Prediction')\n",
    "plt.show()"
   ]
  },
  {
   "cell_type": "markdown",
   "id": "4a578727-93e0-488b-8f21-4532f21c5e28",
   "metadata": {},
   "source": [
    " # Model 2"
   ]
  },
  {
   "cell_type": "code",
   "execution_count": null,
   "id": "8257ee5d-53ba-4a06-9ce2-2b5ecf04eb23",
   "metadata": {},
   "outputs": [],
   "source": [
    "sgmd_model_2 = Model_2()\n",
    "optimizer = torch.optim.RMSprop(sgmd_model_2.parameters(), lr = 0.0012, \n",
    "                                weight_decay = 1e-4)\n",
    "loss_func = torch.nn.MSELoss()  # mean squared loss\n",
    "\n",
    "paramerter_count(sgmd_model_2,3)\n",
    "print(model_weight(sgmd_model_2,1,3))\n",
    "m2_epoch_arr, m2_loss_arr, m2_prediction =training_fun(sgmd_model_2, x, y)\n",
    "print(model_weight(sgmd_model_2,0,3))"
   ]
  },
  {
   "cell_type": "code",
   "execution_count": null,
   "id": "c48cfe5f-81b7-4cf1-8b6f-e04fd3ae499f",
   "metadata": {},
   "outputs": [],
   "source": [
    "# plotting graphs for out model_2\n",
    "plt.plot(m2_epoch_arr, m2_loss_arr,color=\"red\")\n",
    "plt.title('sgmd_Model_2 Loss')\n",
    "plt.show()\n",
    "\n",
    "plt.plot(x.numpy(),y.numpy(),color=\"black\", alpha = 0.6)\n",
    "plt.plot(x,m2_prediction.data.numpy(),color=\"yellow\")\n",
    "plt.title('sgmd_Model_2 Prediction')\n",
    "plt.show()"
   ]
  },
  {
   "cell_type": "markdown",
   "id": "b37b2d6f-aa34-42c7-a21e-30a2c3eee04b",
   "metadata": {},
   "source": [
    "# Model 3"
   ]
  },
  {
   "cell_type": "code",
   "execution_count": null,
   "id": "91c657df-4504-45e7-99d0-d284272dc6c6",
   "metadata": {},
   "outputs": [],
   "source": [
    "sgmd_model_3 = Model_3()\n",
    "optimizer = torch.optim.RMSprop(sgmd_model_3.parameters(), lr = 0.0011, \n",
    "                                weight_decay = 1e-4)\n",
    "loss_func = torch.nn.MSELoss()  # mean squared loss\n",
    "\n",
    "paramerter_count(sgmd_model_3,1)\n",
    "print(model_weight(sgmd_model_3,1,3))\n",
    "m3_epoch_arr, m3_loss_arr, m3_prediction =training_fun(sgmd_model_3, x, y)\n",
    "print(model_weight(sgmd_model_3,0,3))"
   ]
  },
  {
   "cell_type": "code",
   "execution_count": null,
   "id": "f7a7030f-5099-4ffc-8dff-5396a91df499",
   "metadata": {},
   "outputs": [],
   "source": [
    "# plotting graphs for out model_3\n",
    "plt.plot(m3_epoch_arr, m3_loss_arr,color=\"red\")\n",
    "plt.title('sgmd_Model_3 Loss')\n",
    "plt.show()\n",
    "\n",
    "plt.plot(x.numpy(),y.numpy(),color=\"black\", alpha =0.8)\n",
    "plt.plot(x,m3_prediction.data.numpy(),color=\"green\")\n",
    "plt.title('sgmd_Model_3 Prediction')\n",
    "plt.show()"
   ]
  },
  {
   "cell_type": "code",
   "execution_count": null,
   "id": "825b5f1d-f629-4e8f-8684-6376e35f595d",
   "metadata": {},
   "outputs": [],
   "source": [
    "# Plotting comparitive graphs for 3rd function"
   ]
  },
  {
   "cell_type": "code",
   "execution_count": null,
   "id": "5f6e36ef-48c3-4d77-a810-65d966354170",
   "metadata": {},
   "outputs": [],
   "source": [
    "plt.figure(figsize=(10,7))\n",
    "plt.plot(m1_epoch_arr,m1_loss_arr, color = \"red\")\n",
    "plt.plot(m2_epoch_arr,m2_loss_arr, color = \"blue\")\n",
    "plt.plot(m3_epoch_arr,m3_loss_arr, color = \"yellow\")\n",
    "plt.title('sgmd Model Loss')\n",
    "plt.legend(['Model_1', 'Model_2','Model_3'])\n",
    "plt.xlabel('Epoch')\n",
    "plt.ylabel('Loss')\n",
    "plt.savefig('AJ_Fun3_EpochVSLoss1.pdf')\n",
    "plt.show()\n",
    "\n",
    "\n",
    "plt.figure(figsize=(15,8))\n",
    "plt.plot(x,m1_prediction.data.numpy(),color=\"red\")\n",
    "plt.plot(x,m2_prediction.data.numpy(),color=\"blue\")\n",
    "plt.plot(x,m3_prediction.data.numpy(),color=\"yellow\")\n",
    "plt.plot(x,y.numpy(),color=\"black\")\n",
    "plt.title('sgmd Model Prediction')\n",
    "plt.legend(['1st Model', '2nd Model','3rd Model','Orginal Value'])\n",
    "plt.xlabel('Function')\n",
    "plt.ylabel('Target')\n",
    "plt.savefig('AJ_Model_Prediction3.pdf')\n",
    "plt.show()"
   ]
  },
  {
   "cell_type": "markdown",
   "id": "4c6a2fe8-b02c-4646-b8e1-40d818d0643a",
   "metadata": {},
   "source": [
    "# 1.2"
   ]
  },
  {
   "cell_type": "markdown",
   "id": "579c9242-0694-43ce-8179-b70ae763d0e9",
   "metadata": {},
   "source": [
    "# Training on MNIST actual data "
   ]
  },
  {
   "cell_type": "code",
   "execution_count": 3,
   "id": "07dbc111-282e-4219-8b2a-7575c0472393",
   "metadata": {},
   "outputs": [],
   "source": [
    "import torch\n",
    "import torchvision\n",
    "import torchvision.transforms as transforms\n",
    "import matplotlib.pyplot as plt\n",
    "import torch.nn.functional as F"
   ]
  },
  {
   "cell_type": "code",
   "execution_count": 4,
   "id": "02461dc9-154e-4e48-bf46-eedb40a519c1",
   "metadata": {},
   "outputs": [
    {
     "data": {
      "text/plain": [
       "<torch._C.Generator at 0x14d1b607bb30>"
      ]
     },
     "execution_count": 4,
     "metadata": {},
     "output_type": "execute_result"
    }
   ],
   "source": [
    "torch.manual_seed(1)"
   ]
  },
  {
   "cell_type": "code",
   "execution_count": 5,
   "id": "00b163e4-546f-4e36-8326-c5c61c58bd84",
   "metadata": {},
   "outputs": [],
   "source": [
    "# Load and prepare MNIST dataset\n",
    "train_dataset = torchvision.datasets.MNIST(root='./data', train=True, transform=transforms.ToTensor(), download=True)\n",
    "test_dataset = torchvision.datasets.MNIST(root='./data', train=False, transform=transforms.ToTensor())\n"
   ]
  },
  {
   "cell_type": "code",
   "execution_count": 6,
   "id": "1f346a98-973c-443a-98e9-3d412aa10772",
   "metadata": {},
   "outputs": [],
   "source": [
    "train_loader = torch.utils.data.DataLoader(dataset=train_dataset, batch_size=600, shuffle=True)\n",
    "test_loader = torch.utils.data.DataLoader(dataset=test_dataset, batch_size=100, shuffle=False)"
   ]
  },
  {
   "cell_type": "code",
   "execution_count": 7,
   "id": "ace2bf29-b398-40aa-a6c8-1a25edabdccf",
   "metadata": {},
   "outputs": [
    {
     "data": {
      "image/png": "[encoded data removed]",
      "text/plain": [
       "<Figure size 640x480 with 6 Axes>"
      ]
     },
     "metadata": {},
     "output_type": "display_data"
    }
   ],
   "source": [
    "# plotting test data sample\n",
    "test_iter = iter(test_loader)\n",
    "example_data, example_targets = next(test_iter)\n",
    "for i in range(6):\n",
    "    plt.subplot(2,3,i+1)\n",
    "    plt.imshow(example_data[i][0], cmap='gray')\n",
    "    plt.title(\"Actual Val: {}\".format(example_targets[i]),color='white')\n",
    "    plt.xticks([])\n",
    "    plt.yticks([])\n",
    "plt.show()"
   ]
  },
  {
   "cell_type": "code",
   "execution_count": 8,
   "id": "b16a85d9-ff8d-46c7-99a7-717e8a452b13",
   "metadata": {},
   "outputs": [],
   "source": [
    "def trainFunc(model,num_epochs):\n",
    "    model.train()\n",
    "    n_total_steps = len(train_loader)\n",
    "    train_losses = []\n",
    "    train_epoch = []\n",
    "    train_acc = []\n",
    "    not_converged =True\n",
    "    epoch = 0\n",
    "    trainAvgLossArr = []\n",
    "    while not_converged:\n",
    "        epoch += 1\n",
    "        n_correct = 0\n",
    "        n_samples = 0\n",
    "        lossSum = 0\n",
    "\n",
    "        for i, (images, labels) in enumerate(train_loader):  \n",
    "            # Forward pass\n",
    "            prediction = model(images)\n",
    "            loss = loss_func(prediction, labels)\n",
    "            lossSum += loss.detach().numpy()\n",
    "            # Backward and optimize\n",
    "            optimizer.zero_grad()\n",
    "            loss.backward()\n",
    "            optimizer.step()\n",
    "\n",
    "            _, predicted = torch.max(prediction.data, 1)\n",
    "            n_samples += labels.size(0)\n",
    "            n_correct += (predicted == labels).sum().item()\n",
    "            acc = 100.0 * n_correct / n_samples\n",
    "\n",
    "            if (i+1) % 100 == 0:\n",
    "                print (f'Epoch [{epoch}/{num_epochs}], Step [{i+1}/{n_total_steps}], Loss: {loss.item():.4f}',end='\\r',flush=True)\n",
    "                train_epoch.append(epoch)\n",
    "                train_losses.append(loss.item())\n",
    "                print(f'Epoch [{epoch}/{num_epochs}], Accuracy : {acc} %',end='\\r',flush=True)\n",
    "                train_acc.append(acc)\n",
    "\n",
    "                if epoch == num_epochs:\n",
    "                        print(f\"Max Epoch Reached, Loss: {loss.item():.4f}, Accuracy:{acc:2f}%\")\n",
    "                        not_converged = False\n",
    "                elif (epoch > 5) and  (train_losses[-1] < 0.001):\n",
    "                    if abs(train_losses[-3] - train_losses[-2]) < 1.0e-05 and abs(train_losses[-2] - train_losses[-1]) < 1.0e-05:\n",
    "                        print(\"Convergeance reached for loss:\",train_losses[-1])\n",
    "                        not_converged = False\n",
    "\n",
    "        trainAvgLossArr.append(lossSum/i+1)\n",
    "        \n",
    "                        \n",
    "    return train_epoch,train_losses,train_acc,trainAvgLossArr"
   ]
  },
  {
   "cell_type": "code",
   "execution_count": 9,
   "id": "b12e22b8-2868-4d0c-ade4-e10d7a0c2b4d",
   "metadata": {},
   "outputs": [],
   "source": [
    "def testFunc (model):\n",
    "    model.eval()\n",
    "    with torch.no_grad():\n",
    "        n_correct = 0\n",
    "        n_samples = 0\n",
    "        n_class_correct = [0 for i in range(10)]\n",
    "        n_class_samples = [0 for i in range(10)]\n",
    "        for test_images, test_labels in test_loader:\n",
    "            outputs = model(test_images)\n",
    "            # max returns (value ,index)\n",
    "            _, predicted = torch.max(outputs, 1)\n",
    "            n_samples += test_labels.size(0)\n",
    "            n_correct += (predicted == test_labels).sum().item()\n",
    "            \n",
    "            for i in range(100):\n",
    "                label = test_labels[i]\n",
    "                pred = predicted[i]\n",
    "                if (label == pred):\n",
    "                    n_class_correct[label] += 1\n",
    "                n_class_samples[label] += 1\n",
    "\n",
    "        netTest_acc1 = 100.0 * n_correct / n_samples\n",
    "        print(f'Accuracy of the network: {netTest_acc1} %')\n",
    "\n",
    "        for i in range(10):\n",
    "            acc = 100.0 * n_class_correct[i] / n_class_samples[i]\n",
    "            print(f'Accuracy of {i}: {acc} %')\n",
    "    \n",
    "    return netTest_acc1\n"
   ]
  },
  {
   "cell_type": "markdown",
   "id": "07ddedf3-a5c1-4467-abc8-ee775bc7d646",
   "metadata": {},
   "source": [
    "# First CNN"
   ]
  },
  {
   "cell_type": "code",
   "execution_count": 10,
   "id": "2285fc4a-9625-46c7-9702-56d0c2378187",
   "metadata": {},
   "outputs": [],
   "source": [
    "# Hyper-parameters \n",
    "input_size = 784 # 28x28\n",
    "max_epochs = 15\n",
    "learning_rate = 0.001\n",
    "kernel_size = 4\n",
    "weight_decay_val = 1e-4\n",
    "dropout = 0.25\n",
    "\n",
    "class CNN1(nn.Module):\n",
    "    def __init__(self,):\n",
    "        super(CNN1, self).__init__()\n",
    "        self.conv1 = nn.Conv2d(1, 10, kernel_size) #1st Convolution\n",
    "        self.pool = nn.MaxPool2d(2, 2)   #pool_size=2, strides=2 \n",
    "        self.conv2 = nn.Conv2d(10, 20, kernel_size) #2nd Convolution\n",
    "        self.fc1 = nn.Linear(320, 50) #((I/P - Filter + 2*Pad)/Stride)+1 \n",
    "        self.dropout = nn.Dropout(dropout)\n",
    "        self.fc2 = nn.Linear(50, 100)\n",
    "        self.fc3 = nn.Linear(100, 10)\n",
    "\n",
    "    def forward(self, x):\n",
    "        # -> n, 3, 32, 32\n",
    "        x = self.pool(F.relu(self.conv1(x)))  \n",
    "        x = self.pool(F.relu(self.conv2(x)))  \n",
    "        x = x.view(-1, 320)            #Flattening \n",
    "        x = F.relu(self.fc1(x))        #Fully Connected NN   \n",
    "        x = self.dropout(x)   \n",
    "        x = F.relu(self.fc2(x))        #Fully Connected NN           \n",
    "        x = self.fc3(x)                #O/P Layer       \n",
    "        return x"
   ]
  },
  {
   "cell_type": "code",
   "execution_count": 11,
   "id": "f763583b-c465-4ea6-933e-196441bb6648",
   "metadata": {},
   "outputs": [
    {
     "name": "stdout",
     "output_type": "stream",
     "text": [
      "Total no of parameters in Model 1: 25550\n",
      "Max Epoch Reached, Loss: 0.0967, Accuracy:98.160000%\n"
     ]
    },
    {
     "data": {
      "image/png": "[encoded data removed]",
      "text/plain": [
       "<Figure size 640x480 with 1 Axes>"
      ]
     },
     "metadata": {},
     "output_type": "display_data"
    },
    {
     "data": {
      "image/png": "[encoded data removed]",
      "text/plain": [
       "<Figure size 640x480 with 1 Axes>"
      ]
     },
     "metadata": {},
     "output_type": "display_data"
    }
   ],
   "source": [
    "torch.manual_seed(1)\n",
    "\n",
    "cnn1 = CNN1()\n",
    "loss_func = nn.CrossEntropyLoss()\n",
    "optimizer = torch.optim.Adam(cnn1.parameters(), lr=learning_rate, weight_decay = weight_decay_val)\n",
    "\n",
    "a=[]\n",
    "for i in cnn1.parameters():\n",
    "    a.append(torch.numel(i))\n",
    "print('Total no of parameters in Model 1:', np.sum(a),)\n",
    "train_epoch,train_losses,train_acc,trainAvgLossArr =trainFunc(cnn1,max_epochs)\n",
    "plt.plot(train_epoch,trainAvgLossArr,color=\"blue\")\n",
    "plt.title('CNN Loss VS Epoch')\n",
    "plt.show()\n",
    "plt.plot(train_epoch,train_acc,color=\"red\")\n",
    "plt.title('CNN Accuracy VS Epoch')\n",
    "plt.show()"
   ]
  },
  {
   "cell_type": "code",
   "execution_count": 12,
   "id": "9c9c9520-0766-40af-82cc-bd091328eb36",
   "metadata": {},
   "outputs": [
    {
     "name": "stdout",
     "output_type": "stream",
     "text": [
      "Accuracy of the network: 98.71 %\n",
      "Accuracy of 0: 99.48979591836735 %\n",
      "Accuracy of 1: 98.8546255506608 %\n",
      "Accuracy of 2: 99.2248062015504 %\n",
      "Accuracy of 3: 98.81188118811882 %\n",
      "Accuracy of 4: 98.26883910386965 %\n",
      "Accuracy of 5: 98.65470852017937 %\n",
      "Accuracy of 6: 99.16492693110648 %\n",
      "Accuracy of 7: 97.95719844357977 %\n",
      "Accuracy of 8: 98.870636550308 %\n",
      "Accuracy of 9: 97.81962338949455 %\n"
     ]
    }
   ],
   "source": [
    "cnn1TestAcc = testFunc(cnn1)"
   ]
  },
  {
   "cell_type": "markdown",
   "id": "5a40ec04-4437-4f8d-8d69-66d9d60f6c81",
   "metadata": {},
   "source": [
    " # Second CNN"
   ]
  },
  {
   "cell_type": "code",
   "execution_count": 13,
   "id": "083ee3f4-5198-47e2-82ac-557b06df2a20",
   "metadata": {},
   "outputs": [
    {
     "name": "stdout",
     "output_type": "stream",
     "text": [
      "Total no of parameters in Model 2: 25570\n",
      "Max Epoch Reached, Loss: 0.0844, Accuracy:97.845000%\n"
     ]
    }
   ],
   "source": [
    "\n",
    "class CNN2(nn.Module):\n",
    "    def __init__(self,):\n",
    "        super(CNN2, self).__init__()\n",
    "        self.conv1 = nn.Conv2d(1, 10, kernel_size) #1st Convolution\n",
    "        self.pool = nn.MaxPool2d(2, 2)   #pool_size=2, strides=2 \n",
    "        self.conv2 = nn.Conv2d(10, 20, kernel_size) #2nd Convolution\n",
    "        self.fc1 = nn.Linear(20*kernel_size*kernel_size, 50) #((I/P - Filter + 2*Pad)/Stride)+1 \n",
    "        self.fc2 = nn.Linear(50,50)\n",
    "        self.fc3 = nn.Linear(50,40)\n",
    "        self.fc4 = nn.Linear(40,30)\n",
    "        self.fc5 = nn.Linear(30, 10)\n",
    "\n",
    "    def forward(self, x):\n",
    "        x = self.pool(F.relu(self.conv1(x)))  \n",
    "        x = self.pool(F.relu(self.conv2(x)))  \n",
    "        x = x.view(-1, 320)            #Flattening \n",
    "        x = F.relu(self.fc1(x))        #Fully Connected NN       \n",
    "        x = F.relu(self.fc2(x))        #Fully Connected NN \n",
    "        x = F.relu(self.fc3(x))        #Fully Connected NN \n",
    "        x = F.relu(self.fc4(x))        #Fully Connected NN \n",
    "        x = self.fc5(x)                #O/P Layer       \n",
    "        return x\n",
    "torch.manual_seed(1)\n",
    "\n",
    "cnn2 = CNN2()\n",
    "loss_func = nn.CrossEntropyLoss()\n",
    "optimizer = torch.optim.Adam(cnn2.parameters(), lr=learning_rate, weight_decay = weight_decay_val)\n",
    "\n",
    "a=[]\n",
    "\n",
    "for i in cnn2.parameters():\n",
    "    a.append(torch.numel(i))\n",
    "print('Total no of parameters in Model 2:', np.sum(a),)\n",
    "train_epoch2,train_losses2,train_acc2,trainAvgLossArr2=trainFunc(cnn2,max_epochs)"
   ]
  },
  {
   "cell_type": "code",
   "execution_count": 14,
   "id": "99340343-c7a0-4806-b3f1-79bb6f6db9a2",
   "metadata": {},
   "outputs": [
    {
     "data": {
      "image/png": "[encoded data removed]",
      "text/plain": [
       "<Figure size 640x480 with 1 Axes>"
      ]
     },
     "metadata": {},
     "output_type": "display_data"
    },
    {
     "data": {
      "image/png": "[encoded data removed]",
      "text/plain": [
       "<Figure size 640x480 with 1 Axes>"
      ]
     },
     "metadata": {},
     "output_type": "display_data"
    },
    {
     "name": "stdout",
     "output_type": "stream",
     "text": [
      "Accuracy of the network: 98.03 %\n",
      "Accuracy of 0: 99.18367346938776 %\n",
      "Accuracy of 1: 98.94273127753304 %\n",
      "Accuracy of 2: 98.15891472868218 %\n",
      "Accuracy of 3: 96.73267326732673 %\n",
      "Accuracy of 4: 98.77800407331975 %\n",
      "Accuracy of 5: 97.6457399103139 %\n",
      "Accuracy of 6: 99.06054279749478 %\n",
      "Accuracy of 7: 98.24902723735408 %\n",
      "Accuracy of 8: 98.25462012320328 %\n",
      "Accuracy of 9: 95.24281466798811 %\n"
     ]
    }
   ],
   "source": [
    "#plot\n",
    "plt.plot(train_epoch2,trainAvgLossArr2,color=\"blue\")\n",
    "plt.title('CNN Loss VS Epoch')\n",
    "plt.show()\n",
    "#plot\n",
    "plt.plot(train_epoch2,train_acc2,color=\"red\")\n",
    "plt.title('CNN accuracy VS Epoch')\n",
    "plt.show()\n",
    "cnn2TestAcc = testFunc(cnn2)"
   ]
  },
  {
   "cell_type": "code",
   "execution_count": 15,
   "id": "751f5bb2-992b-4678-b06b-39c9480204f3",
   "metadata": {},
   "outputs": [
    {
     "name": "stdout",
     "output_type": "stream",
     "text": [
      "Total no of parameters in Model 3: 25621\n",
      "Max Epoch Reached, Loss: 0.0237, Accuracy:98.901667%\n"
     ]
    },
    {
     "data": {
      "image/png": "[encoded data removed]",
      "text/plain": [
       "<Figure size 640x480 with 1 Axes>"
      ]
     },
     "metadata": {},
     "output_type": "display_data"
    },
    {
     "data": {
      "image/png": "[encoded data removed]",
      "text/plain": [
       "<Figure size 640x480 with 1 Axes>"
      ]
     },
     "metadata": {},
     "output_type": "display_data"
    },
    {
     "name": "stdout",
     "output_type": "stream",
     "text": [
      "Accuracy of the network: 98.81 %\n",
      "Accuracy of 0: 99.48979591836735 %\n",
      "Accuracy of 1: 99.11894273127753 %\n",
      "Accuracy of 2: 99.2248062015504 %\n",
      "Accuracy of 3: 99.00990099009901 %\n",
      "Accuracy of 4: 99.38900203665987 %\n",
      "Accuracy of 5: 97.53363228699551 %\n",
      "Accuracy of 6: 99.06054279749478 %\n",
      "Accuracy of 7: 98.44357976653697 %\n",
      "Accuracy of 8: 98.97330595482546 %\n",
      "Accuracy of 9: 97.7205153617443 %\n"
     ]
    }
   ],
   "source": [
    "#Model 3\n",
    "class CNN3(nn.Module):\n",
    "    def __init__(self,): \n",
    "        super(CNN3, self).__init__()\n",
    "        self.conv1 = nn.Conv2d(1, 10, 5)\n",
    "        self.pool = nn.MaxPool2d(2, 2)\n",
    "        self.conv2 = nn.Conv2d(10, 15, 5)\n",
    "        self.fc1 = nn.Linear(15*4*4, 86)\n",
    "        self.fc2 = nn.Linear(86, 10)\n",
    "       \n",
    "\n",
    "    def forward(self, x):\n",
    "        x = self.pool(F.relu(self.conv1(x)))\n",
    "        x = self.pool(F.relu(self.conv2(x)))\n",
    "     \n",
    "        x = x.view(-1, 15*4*4)\n",
    "        x = F.relu(self.fc1(x))\n",
    "        x = self.fc2(x)\n",
    "        \n",
    "        return x\n",
    "torch.manual_seed(1)\n",
    "\n",
    "cnn3 = CNN3()\n",
    "loss_func = nn.CrossEntropyLoss()\n",
    "optimizer = torch.optim.Adam(cnn3.parameters(), lr=learning_rate, weight_decay = weight_decay_val)\n",
    "\n",
    "a=[]\n",
    "\n",
    "for i in cnn3.parameters():\n",
    "    a.append(torch.numel(i))\n",
    "print('Total no of parameters in Model 3:', np.sum(a))\n",
    "train_epoch3,train_losses3,train_acc3,trainAvgLossArr3=trainFunc(cnn3,max_epochs)\n",
    "#plot\n",
    "plt.plot(train_epoch3,trainAvgLossArr3,color=\"blue\")\n",
    "plt.title('CNN Loss VS Epoch')\n",
    "plt.show()\n",
    "#plot\n",
    "plt.plot(train_epoch3,train_acc3,color=\"red\")\n",
    "plt.title('CNN accuracy VS Epoch')\n",
    "plt.show()\n",
    "cnn3TestAcc = testFunc(cnn3)"
   ]
  },
  {
   "cell_type": "code",
   "execution_count": 19,
   "id": "8d96fc39-d8c8-4209-9826-197c045bf38e",
   "metadata": {},
   "outputs": [
    {
     "data": {
      "image/png": "[encoded data removed]",
      "text/plain": [
       "<Figure size 1000x500 with 1 Axes>"
      ]
     },
     "metadata": {},
     "output_type": "display_data"
    },
    {
     "data": {
      "image/png": "[encoded data removed]",
      "text/plain": [
       "<Figure size 1000x400 with 1 Axes>"
      ]
     },
     "metadata": {},
     "output_type": "display_data"
    },
    {
     "name": "stdout",
     "output_type": "stream",
     "text": [
      "CNN1 Test Accuracy: 98.71 % \n",
      "CNN2 Test Accuracy: 98.03 % \n",
      "CNN3 Test Accuracy: 98.81 %\n"
     ]
    }
   ],
   "source": [
    "plt.figure(figsize=(10,5))\n",
    "plt.plot(train_epoch,trainAvgLossArr, color = \"orange\")\n",
    "plt.plot(train_epoch2,trainAvgLossArr2, color = \"blue\")\n",
    "plt.plot(train_epoch3,trainAvgLossArr3, color = \"yellow\")\n",
    "#plt.plot(train_epoch4,trainAvgLossArr4, color = \"orange\")\n",
    "plt.title('Learnig progression of model (Loss)')\n",
    "plt.legend(['1st Model', '2nd Model','3rd Model', '4th Model','Orginal Value'])\n",
    "plt.xlabel('Epoch')\n",
    "plt.ylabel('Loss')\n",
    "plt.show()\n",
    "\n",
    "plt.figure(figsize=(10,4))\n",
    "plt.plot(train_epoch,train_acc,color=\"green\")\n",
    "plt.plot(train_epoch2,train_acc2,color=\"cyan\")\n",
    "plt.plot(train_epoch3,train_acc3,color=\"black\")\n",
    "#plt.plot(train_epoch4,train_acc4,color=\"orange\")\n",
    "plt.title('Model Train Accuraccy')\n",
    "plt.legend(['1st Model', '2nd Model','3rd Model','Orginal Value'])\n",
    "plt.xlabel('Function')\n",
    "plt.ylabel('Target')\n",
    "plt.show()\n",
    "\n",
    "print('CNN1 Test Accuracy:',cnn1TestAcc,'%','\\nCNN2 Test Accuracy:',cnn2TestAcc,'%','\\nCNN3 Test Accuracy:',cnn3TestAcc,'%')"
   ]
  },
  {
   "cell_type": "code",
   "execution_count": null,
   "id": "a3cb9b0a-5bca-461b-9246-4c5ef7145492",
   "metadata": {},
   "outputs": [],
   "source": []
  }
 ],
 "metadata": {
  "kernelspec": {
   "display_name": "Python 3 (ipykernel)",
   "language": "python",
   "name": "python3"
  },
  "language_info": {
   "codemirror_mode": {
    "name": "ipython",
    "version": 3
   },
   "file_extension": ".py",
   "mimetype": "text/x-python",
   "name": "python",
   "nbconvert_exporter": "python",
   "pygments_lexer": "ipython3",
   "version": "3.7.13"
  }
 },
 "nbformat": 4,
 "nbformat_minor": 5
}
